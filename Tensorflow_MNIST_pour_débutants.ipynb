{
  "cells": [
    {
      "cell_type": "markdown",
      "metadata": {
        "id": "kLrzSZ1Cfv6L"
      },
      "source": [
        "# Tensorflow MNIST pour débutants\n",
        "Ce Notebook permet aux débutants d'apprendre à développer un premier modèle de classification sur le dataset MNIST, en utilisant l'API Keras."
      ]
    },
    {
      "cell_type": "code",
      "execution_count": 1,
      "metadata": {
        "colab": {
          "base_uri": "https://localhost:8080/"
        },
        "id": "AIUwgqwP5hkp",
        "outputId": "9d5e60c6-a4bd-4a30-c09b-7994496b39ca"
      },
      "outputs": [],
      "source": [
        "# pip install tensorflow"
      ]
    },
    {
      "cell_type": "code",
      "execution_count": 2,
      "metadata": {
        "id": "oa63KejBfog8"
      },
      "outputs": [],
      "source": [
        "import numpy as np\n",
        "import matplotlib.pyplot as plt\n",
        "from tensorflow import keras"
      ]
    },
    {
      "cell_type": "markdown",
      "metadata": {
        "id": "UvrLumwPhZrN"
      },
      "source": [
        "## 1. Chargement des données et Normalisation"
      ]
    },
    {
      "cell_type": "code",
      "execution_count": 3,
      "metadata": {
        "colab": {
          "base_uri": "https://localhost:8080/"
        },
        "id": "oPZCV7XTfucK",
        "outputId": "aea04f64-37bd-4a81-bd9a-d36b79e4f13b"
      },
      "outputs": [
        {
          "name": "stdout",
          "output_type": "stream",
          "text": [
            "Downloading data from https://storage.googleapis.com/tensorflow/tf-keras-datasets/mnist.npz\n",
            "11490434/11490434 [==============================] - 8s 1us/step\n",
            "trainset: (60000, 28, 28)\n",
            "testset: (10000, 28, 28)\n"
          ]
        }
      ],
      "source": [
        "# Chargement des données MNIST\n",
        "(X_train, y_train) , (X_test, y_test) = keras.datasets.mnist.load_data()\n",
        "\n",
        "print('trainset:', X_train.shape) # 60,000 images\n",
        "print('testset:', X_test.shape) # 10,000 images\n",
        "\n",
        "# Normalisation des données\n",
        "X_train = X_train / 255\n",
        "X_test = X_test / 255"
      ]
    },
    {
      "cell_type": "markdown",
      "metadata": {
        "id": "JKEjEqbOhdh0"
      },
      "source": [
        "## 2. Visualisation des données"
      ]
    },
    {
      "cell_type": "code",
      "execution_count": 4,
      "metadata": {
        "colab": {
          "base_uri": "https://localhost:8080/",
          "height": 162
        },
        "id": "BmTNBz7bgeZG",
        "outputId": "95ff4814-9e82-488a-c1b2-a8febd82f019"
      },
      "outputs": [
        {
          "data": {
            "image/png": "[encoded data removed]",
            "text/plain": [
              "<Figure size 2000x400 with 10 Axes>"
            ]
          },
          "metadata": {},
          "output_type": "display_data"
        }
      ],
      "source": [
        "# visualisation de quelques images\n",
        "fig, ax = plt.subplots(nrows=1, ncols=10, figsize=(20, 4))\n",
        "for i in range(10):\n",
        "  ax[i].imshow(X_train[i], cmap='gray')\n",
        "\n",
        "plt.tight_layout()\n",
        "plt.show()"
      ]
    },
    {
      "cell_type": "markdown",
      "metadata": {
        "id": "FInfYGsMhflz"
      },
      "source": [
        "## 3. Configuration des Couches du Réseau de Neurones"
      ]
    },
    {
      "cell_type": "code",
      "execution_count": 5,
      "metadata": {
        "id": "RFfzviJKg5WE"
      },
      "outputs": [],
      "source": [
        "# Configuration des couches du réseau\n",
        "model = keras.Sequential([\n",
        "    keras.layers.Flatten(input_shape=(28, 28)),\n",
        "    keras.layers.Dense(128, activation='relu'),\n",
        "    keras.layers.Dense(128, activation='relu'),\n",
        "    keras.layers.Dense(10)\n",
        "])"
      ]
    },
    {
      "cell_type": "markdown",
      "metadata": {
        "id": "YfdDh4_zhkL7"
      },
      "source": [
        "## 4. Entrainement du Réseau de Neurones"
      ]
    },
    {
      "cell_type": "code",
      "execution_count": 6,
      "metadata": {
        "colab": {
          "base_uri": "https://localhost:8080/"
        },
        "id": "TvrDQgcTfeDx",
        "outputId": "dd45c00a-d4da-4215-aba2-2fc89012449d"
      },
      "outputs": [
        {
          "name": "stdout",
          "output_type": "stream",
          "text": [
            "Epoch 1/10\n",
            "1875/1875 [==============================] - 12s 4ms/step - loss: 0.2269 - accuracy: 0.9337\n",
            "Epoch 2/10\n",
            "1875/1875 [==============================] - 7s 4ms/step - loss: 0.0951 - accuracy: 0.9708\n",
            "Epoch 3/10\n",
            "1875/1875 [==============================] - 6s 3ms/step - loss: 0.0686 - accuracy: 0.9783\n",
            "Epoch 4/10\n",
            "1875/1875 [==============================] - 7s 4ms/step - loss: 0.0496 - accuracy: 0.9845\n",
            "Epoch 5/10\n",
            "1875/1875 [==============================] - 6s 3ms/step - loss: 0.0399 - accuracy: 0.9870\n",
            "Epoch 6/10\n",
            "1875/1875 [==============================] - 6s 3ms/step - loss: 0.0330 - accuracy: 0.9891\n",
            "Epoch 7/10\n",
            "1875/1875 [==============================] - 8s 4ms/step - loss: 0.0262 - accuracy: 0.9912\n",
            "Epoch 8/10\n",
            "1875/1875 [==============================] - 7s 4ms/step - loss: 0.0222 - accuracy: 0.9925\n",
            "Epoch 9/10\n",
            "1875/1875 [==============================] - 6s 3ms/step - loss: 0.0216 - accuracy: 0.9930\n",
            "Epoch 10/10\n",
            "1875/1875 [==============================] - 6s 3ms/step - loss: 0.0176 - accuracy: 0.9944\n"
          ]
        },
        {
          "data": {
            "text/plain": [
              "<keras.callbacks.History at 0x1f316e3f520>"
            ]
          },
          "execution_count": 6,
          "metadata": {},
          "output_type": "execute_result"
        }
      ],
      "source": [
        "# Compilation du modele\n",
        "model.compile(optimizer='adam',\n",
        "              loss= keras.losses.SparseCategoricalCrossentropy(from_logits=True),\n",
        "              metrics=['accuracy'])\n",
        "\n",
        "# Entrainement du modele\n",
        "model.fit(X_train, y_train, epochs=10)"
      ]
    },
    {
      "cell_type": "markdown",
      "metadata": {
        "id": "EnifmnaOhodj"
      },
      "source": [
        "## 5. Évaluation du réseau de neurone sur les données de Test"
      ]
    },
    {
      "cell_type": "code",
      "execution_count": 7,
      "metadata": {
        "colab": {
          "base_uri": "https://localhost:8080/"
        },
        "id": "3LdmrOwKg8nK",
        "outputId": "ab21b696-7ffa-4ad0-cafa-ac258a770f7b"
      },
      "outputs": [
        {
          "name": "stdout",
          "output_type": "stream",
          "text": [
            "313/313 [==============================] - 1s 2ms/step - loss: 0.0971 - accuracy: 0.9780\n",
            "Test accuracy: 0.9779999852180481\n"
          ]
        }
      ],
      "source": [
        "# Evaluation du modele\n",
        "test_loss, test_acc = model.evaluate(X_test,  y_test)\n",
        "print('Test accuracy:', test_acc)"
      ]
    },
    {
      "cell_type": "markdown",
      "metadata": {
        "id": "9a8vswFYhuGL"
      },
      "source": [
        "## 6. Création d'un modele prédictif"
      ]
    },
    {
      "cell_type": "code",
      "execution_count": 8,
      "metadata": {
        "colab": {
          "base_uri": "https://localhost:8080/"
        },
        "id": "TFv035qwg-Q6",
        "outputId": "38e6dd3a-b674-4e30-f87b-84247e779e37"
      },
      "outputs": [
        {
          "name": "stdout",
          "output_type": "stream",
          "text": [
            "313/313 [==============================] - 1s 2ms/step\n",
            "[7 2 1 0 4 1 4 9 5 9]\n",
            "[7 2 1 0 4 1 4 9 5 9]\n"
          ]
        }
      ],
      "source": [
        "# modele prédictif (softmax)\n",
        "prediction_model = keras.Sequential([model, keras.layers.Softmax()])\n",
        "predict_proba = prediction_model.predict(X_test)\n",
        "predictions = np.argmax(predict_proba, axis=1)\n",
        "\n",
        "print(predictions[:10])\n",
        "print(y_test[:10])"
      ]
    }
  ],
  "metadata": {
    "colab": {
      "authorship_tag": "ABX9TyOs8BB3zR8xdfuugq88TB1k",
      "include_colab_link": true,
      "name": "Tensorflow MNIST pour débutants.ipynb",
      "provenance": []
    },
    "kernelspec": {
      "display_name": "Python 3",
      "name": "python3"
    },
    "language_info": {
      "codemirror_mode": {
        "name": "ipython",
        "version": 3
      },
      "file_extension": ".py",
      "mimetype": "text/x-python",
      "name": "python",
      "nbconvert_exporter": "python",
      "pygments_lexer": "ipython3",
      "version": "3.9.13"
    }
  },
  "nbformat": 4,
  "nbformat_minor": 0
}
